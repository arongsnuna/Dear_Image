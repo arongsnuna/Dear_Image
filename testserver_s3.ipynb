{
 "cells": [
  {
   "cell_type": "code",
   "execution_count": 1,
   "metadata": {},
   "outputs": [],
   "source": [
    "from flask import Flask, request, redirect, url_for\n",
    "import os\n",
    "import boto3\n",
    "import uploads_utils\n",
    "from werkzeug.utils import secure_filename\n",
    "import uuid"
   ]
  },
  {
   "cell_type": "code",
   "execution_count": 2,
   "metadata": {},
   "outputs": [
    {
     "name": "stdout",
     "output_type": "stream",
     "text": [
      " * Serving Flask app '__main__'\n",
      " * Debug mode: off\n"
     ]
    },
    {
     "name": "stderr",
     "output_type": "stream",
     "text": [
      "WARNING: This is a development server. Do not use it in a production deployment. Use a production WSGI server instead.\n",
      " * Running on http://127.0.0.1:5000\n",
      "Press CTRL+C to quit\n",
      "127.0.0.1 - - [19/Jun/2024 02:23:04] \"GET / HTTP/1.1\" 200 -\n",
      "127.0.0.1 - - [19/Jun/2024 02:23:06] \"GET /imgupload HTTP/1.1\" 200 -\n",
      "127.0.0.1 - - [19/Jun/2024 02:23:27] \"POST /command_image HTTP/1.1\" 200 -\n",
      "127.0.0.1 - - [19/Jun/2024 02:24:27] \"POST /command_image HTTP/1.1\" 200 -\n"
     ]
    }
   ],
   "source": [
    "app = Flask(__name__)\n",
    "\n",
    "@app.route('/')\n",
    "def index():\n",
    "    return f'''<!doctype html>\n",
    "    <html>\n",
    "        <body>\n",
    "            <h1><a href=\"/\">visprog</a></h1>\n",
    "            <ol>\n",
    "                <a href=\"/imgupload\">이미지업로드</a>\n",
    "            </ol>\n",
    "        </body>\n",
    "    </html>\n",
    "    '''\n",
    "\n",
    "@app.route('/imgupload')\n",
    "def imgupload():\n",
    "    return f'''<!doctype html>\n",
    "    <html>\n",
    "        <body>\n",
    "            <form action=\"http://localhost:5000/command_image\"\n",
    "                method=\"POST\"\n",
    "                enctype=\"multipart/form-data\">\n",
    "                <input type=\"file\" name=\"file\" />\n",
    "                <input type=\"submit\" />\n",
    "            </form>\n",
    "        </body>\n",
    "    </html>\n",
    "    '''\n",
    "\n",
    "@app.route('/command_image', methods=['POST'])\n",
    "def imgUploader():\n",
    "    session_id =  str(uuid.uuid4())\n",
    "\n",
    "    s3 = uploads_utils.s3Connection()\n",
    "    bucket = 'dear-image-flask'\n",
    "    file = request.files['file']\n",
    "\n",
    "    if file.filename == '':\n",
    "        return 'No selected file'\n",
    "    \n",
    "    if uploads_utils.allowedFile(file.filename):\n",
    "        filename = secure_filename(file.filename)\n",
    "\n",
    "        s3_filepath = f'{session_id}/{filename}'\n",
    "        s3.upload_fileobj(file, bucket, s3_filepath)\n",
    "\n",
    "    # 리다이렉션 어디로 해야할지..\n",
    "    return f'''<!doctype html>\n",
    "    <html>\n",
    "        <body>\n",
    "            <h1><a href=\"/\">File uploaded successfully</a></h1>\n",
    "        </body>\n",
    "    </html>\n",
    "    '''\n",
    "\n",
    "\n",
    "app.run()\n",
    "\n"
   ]
  }
 ],
 "metadata": {
  "kernelspec": {
   "display_name": "Python 3",
   "language": "python",
   "name": "python3"
  },
  "language_info": {
   "codemirror_mode": {
    "name": "ipython",
    "version": 3
   },
   "file_extension": ".py",
   "mimetype": "text/x-python",
   "name": "python",
   "nbconvert_exporter": "python",
   "pygments_lexer": "ipython3",
   "version": "3.10.11"
  }
 },
 "nbformat": 4,
 "nbformat_minor": 2
}
